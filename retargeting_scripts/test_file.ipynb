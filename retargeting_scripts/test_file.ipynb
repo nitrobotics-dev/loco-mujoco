{
 "cells": [
  {
   "cell_type": "code",
   "execution_count": 1,
   "id": "621e3328",
   "metadata": {},
   "outputs": [],
   "source": [
    "# import loco_mujoco\n",
    "# import inspect\n",
    "# from loco_mujoco import LocoEnv\n",
    "\n",
    "# import loco_mujoco.datasets\n",
    "# import loco_mujoco.datasets.humanoids\n",
    "# import loco_mujoco.datasets.humanoids.LAFAN1\n",
    "\n",
    "# # Find any function whose name begins with \"download\" in loco_mujoco\n",
    "# for key in LocoEnv.registered_envs.keys():\n",
    "#     print(key)"
   ]
  },
  {
   "cell_type": "code",
   "execution_count": 4,
   "id": "bf777dbd",
   "metadata": {},
   "outputs": [
    {
     "name": "stdout",
     "output_type": "stream",
     "text": [
      "**** DEBUG: actuation_spec = ['arm_left_shoulder_pitch_joint', 'arm_left_shoulder_roll_joint', 'arm_left_shoulder_yaw_joint', 'arm_left_elbow_pitch_joint', 'arm_left_elbow_roll_joint', 'arm_right_shoulder_pitch_joint', 'arm_right_shoulder_roll_joint', 'arm_right_shoulder_yaw_joint', 'arm_right_elbow_pitch_joint', 'arm_right_elbow_roll_joint', 'leg_left_hip_roll_joint', 'leg_left_hip_yaw_joint', 'leg_left_hip_pitch_joint', 'leg_left_knee_pitch_joint', 'leg_left_ankle_pitch_joint', 'leg_left_ankle_roll_joint', 'leg_right_hip_roll_joint', 'leg_right_hip_yaw_joint', 'leg_right_hip_pitch_joint', 'leg_right_knee_pitch_joint', 'leg_right_ankle_pitch_joint', 'leg_right_ankle_roll_joint']\n"
     ]
    },
    {
     "name": "stderr",
     "output_type": "stream",
     "text": [
      "/home/anthonykyu/code/loco-mujoco/loco_mujoco/core/control_functions/default.py:31: RuntimeWarning: invalid value encountered in add\n",
      "  self.norm_act_mean = (self._actuator_high + self._actuator_low) / 2.0\n"
     ]
    },
    {
     "ename": "AttributeError",
     "evalue": "'BerkeleyHumanoidLite' object has no attribute 'action_space'",
     "output_type": "error",
     "traceback": [
      "\u001b[31m---------------------------------------------------------------------------\u001b[39m",
      "\u001b[31mAttributeError\u001b[39m                            Traceback (most recent call last)",
      "\u001b[36mCell\u001b[39m\u001b[36m \u001b[39m\u001b[32mIn[4]\u001b[39m\u001b[32m, line 5\u001b[39m\n\u001b[32m      3\u001b[39m \u001b[38;5;28;01mfrom\u001b[39;00m\u001b[38;5;250m \u001b[39m\u001b[34;01mloco_mujoco\u001b[39;00m\u001b[34;01m.\u001b[39;00m\u001b[34;01mtask_factories\u001b[39;00m\u001b[38;5;250m \u001b[39m\u001b[38;5;28;01mimport\u001b[39;00m RLFactory\n\u001b[32m      4\u001b[39m env = RLFactory.make(\u001b[33m\"\u001b[39m\u001b[33mBerkeleyHumanoidLite\u001b[39m\u001b[33m\"\u001b[39m, render=\u001b[38;5;28;01mFalse\u001b[39;00m)\n\u001b[32m----> \u001b[39m\u001b[32m5\u001b[39m \u001b[38;5;28mprint\u001b[39m(\u001b[43menv\u001b[49m\u001b[43m.\u001b[49m\u001b[43maction_space\u001b[49m)\n\u001b[32m      6\u001b[39m Box(-\u001b[32m1.0\u001b[39m, \u001b[32m1.0\u001b[39m, (\u001b[32m22\u001b[39m,), float32)\n",
      "\u001b[31mAttributeError\u001b[39m: 'BerkeleyHumanoidLite' object has no attribute 'action_space'"
     ]
    }
   ],
   "source": [
    "from loco_mujoco.environments.humanoids.berkeley_humanoid_lite import BerkeleyHumanoidLite\n",
    "import loco_mujoco.environments.humanoids\n",
    "from loco_mujoco.task_factories import RLFactory\n",
    "env = RLFactory.make(\"BerkeleyHumanoidLite\", render=False)\n",
    "print(env.action_space)\n",
    "Box(-1.0, 1.0, (22,), float32)\n"
   ]
  },
  {
   "cell_type": "code",
   "execution_count": 2,
   "id": "d932f552",
   "metadata": {},
   "outputs": [
    {
     "name": "stdout",
     "output_type": "stream",
     "text": [
      "**** DEBUG: actuation_spec = ['arm_left_shoulder_pitch_joint', 'arm_left_shoulder_roll_joint', 'arm_left_shoulder_yaw_joint', 'arm_left_elbow_pitch_joint', 'arm_left_elbow_roll_joint', 'arm_right_shoulder_pitch_joint', 'arm_right_shoulder_roll_joint', 'arm_right_shoulder_yaw_joint', 'arm_right_elbow_pitch_joint', 'arm_right_elbow_roll_joint', 'leg_left_hip_roll_joint', 'leg_left_hip_yaw_joint', 'leg_left_hip_pitch_joint', 'leg_left_knee_pitch_joint', 'leg_left_ankle_pitch_joint', 'leg_left_ankle_roll_joint', 'leg_right_hip_roll_joint', 'leg_right_hip_yaw_joint', 'leg_right_hip_pitch_joint', 'leg_right_knee_pitch_joint', 'leg_right_ankle_pitch_joint', 'leg_right_ankle_roll_joint']\n",
      "Returned actuators: ['arm_left_shoulder_pitch_joint', 'arm_left_shoulder_roll_joint', 'arm_left_shoulder_yaw_joint', 'arm_left_elbow_pitch_joint', 'arm_left_elbow_roll_joint', 'arm_right_shoulder_pitch_joint', 'arm_right_shoulder_roll_joint', 'arm_right_shoulder_yaw_joint', 'arm_right_elbow_pitch_joint', 'arm_right_elbow_roll_joint', 'leg_left_hip_roll_joint', 'leg_left_hip_yaw_joint', 'leg_left_hip_pitch_joint', 'leg_left_knee_pitch_joint', 'leg_left_ankle_pitch_joint', 'leg_left_ankle_roll_joint', 'leg_right_hip_roll_joint', 'leg_right_hip_yaw_joint', 'leg_right_hip_pitch_joint', 'leg_right_knee_pitch_joint', 'leg_right_ankle_pitch_joint', 'leg_right_ankle_roll_joint']\n"
     ]
    }
   ],
   "source": [
    "from loco_mujoco.environments.humanoids.berkeley_humanoid_lite import BerkeleyHumanoidLite\n",
    "# Load the spec manually to inspect what get_action_spec returns\n",
    "spec = BerkeleyHumanoidLite.get_default_xml_file_path()\n",
    "# You can check:\n",
    "act_spec = BerkeleyHumanoidLite()._get_action_specification(spec)\n",
    "print(\"Returned actuators:\", act_spec)\n"
   ]
  },
  {
   "cell_type": "code",
   "execution_count": 3,
   "id": "9af627a0",
   "metadata": {},
   "outputs": [
    {
     "name": "stderr",
     "output_type": "stream",
     "text": [
      "/tmp/ipykernel_261824/2083787433.py:3: DeprecationWarning: The methods `LocoEnv.make()` and `LocoEnv.generate()` are deprecated and will be removed in a future release.\n",
      "Please use the task factory classes instead: `ImitationFactory` or `RLFactory`.\n",
      "  env = LocoEnv.make(\"BerkeleyHumanoidLite\", render=True)\n"
     ]
    },
    {
     "name": "stdout",
     "output_type": "stream",
     "text": [
      "**** DEBUG: actuation_spec = ['arm_left_shoulder_pitch_joint', 'arm_left_shoulder_roll_joint', 'arm_left_shoulder_yaw_joint', 'arm_left_elbow_pitch_joint', 'arm_left_elbow_roll_joint', 'arm_right_shoulder_pitch_joint', 'arm_right_shoulder_roll_joint', 'arm_right_shoulder_yaw_joint', 'arm_right_elbow_pitch_joint', 'arm_right_elbow_roll_joint', 'leg_left_hip_roll_joint', 'leg_left_hip_yaw_joint', 'leg_left_hip_pitch_joint', 'leg_left_knee_pitch_joint', 'leg_left_ankle_pitch_joint', 'leg_left_ankle_roll_joint', 'leg_right_hip_roll_joint', 'leg_right_hip_yaw_joint', 'leg_right_hip_pitch_joint', 'leg_right_knee_pitch_joint', 'leg_right_ankle_pitch_joint', 'leg_right_ankle_roll_joint']\n"
     ]
    },
    {
     "ename": "AttributeError",
     "evalue": "'BerkeleyHumanoidLite' object has no attribute 'action_space'",
     "output_type": "error",
     "traceback": [
      "\u001b[31m---------------------------------------------------------------------------\u001b[39m",
      "\u001b[31mAttributeError\u001b[39m                            Traceback (most recent call last)",
      "\u001b[36mCell\u001b[39m\u001b[36m \u001b[39m\u001b[32mIn[3]\u001b[39m\u001b[32m, line 5\u001b[39m\n\u001b[32m      3\u001b[39m env = LocoEnv.make(\u001b[33m\"\u001b[39m\u001b[33mBerkeleyHumanoidLite\u001b[39m\u001b[33m\"\u001b[39m, render=\u001b[38;5;28;01mTrue\u001b[39;00m)\n\u001b[32m      4\u001b[39m obs = env.reset()\n\u001b[32m----> \u001b[39m\u001b[32m5\u001b[39m action = \u001b[43menv\u001b[49m\u001b[43m.\u001b[49m\u001b[43maction_space\u001b[49m.sample()\n\u001b[32m      6\u001b[39m obs, reward, done, truncated, info = env.step(action)\n\u001b[32m      7\u001b[39m \u001b[38;5;28mprint\u001b[39m(\u001b[33m\"\u001b[39m\u001b[33mSuccess! Step returned:\u001b[39m\u001b[33m\"\u001b[39m, reward, done)\n",
      "\u001b[31mAttributeError\u001b[39m: 'BerkeleyHumanoidLite' object has no attribute 'action_space'"
     ]
    }
   ],
   "source": [
    "from loco_mujoco import LocoEnv\n",
    "# The factory’s key is exactly the class name:\n",
    "env = LocoEnv.make(\"BerkeleyHumanoidLite\", render=True)\n",
    "obs = env.reset()\n",
    "action = env.action_space.sample()\n",
    "obs, reward, done, truncated, info = env.step(action)\n",
    "print(\"Success! Step returned:\", reward, done)\n"
   ]
  }
 ],
 "metadata": {
  "kernelspec": {
   "display_name": "loco-mujoco",
   "language": "python",
   "name": "python3"
  },
  "language_info": {
   "codemirror_mode": {
    "name": "ipython",
    "version": 3
   },
   "file_extension": ".py",
   "mimetype": "text/x-python",
   "name": "python",
   "nbconvert_exporter": "python",
   "pygments_lexer": "ipython3",
   "version": "3.12.3"
  }
 },
 "nbformat": 4,
 "nbformat_minor": 5
}
